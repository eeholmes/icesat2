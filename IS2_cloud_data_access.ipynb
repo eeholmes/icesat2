{
 "cells": [
  {
   "cell_type": "markdown",
   "id": "c8c97d39-c872-40e4-a984-7a8db425bc6b",
   "metadata": {},
   "source": [
    "Outline\n",
    "1. Find data and get links given a bounding box or timestamp (ICELAND)\n",
    "2. Lazy Loading links into xarray (just enough info to put datasets together)\n",
    "3. Decide which variables we want\n",
    "4. Read in just selected variables\n",
    "5. Images! Plots! Visualize! :D\n"
   ]
  },
  {
   "cell_type": "code",
   "execution_count": null,
   "id": "c34dff33-4023-498a-94ab-336277ffe2b9",
   "metadata": {},
   "outputs": [],
   "source": []
  }
 ],
 "metadata": {
  "kernelspec": {
   "display_name": "Python 3 (ipykernel)",
   "language": "python",
   "name": "python3"
  },
  "language_info": {
   "codemirror_mode": {
    "name": "ipython",
    "version": 3
   },
   "file_extension": ".py",
   "mimetype": "text/x-python",
   "name": "python",
   "nbconvert_exporter": "python",
   "pygments_lexer": "ipython3",
   "version": "3.9.7"
  }
 },
 "nbformat": 4,
 "nbformat_minor": 5
}
